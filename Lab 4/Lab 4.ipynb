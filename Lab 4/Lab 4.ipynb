{
 "cells": [
  {
   "cell_type": "markdown",
   "id": "a0c005de",
   "metadata": {},
   "source": [
    "# Q1"
   ]
  },
  {
   "cell_type": "code",
   "execution_count": null,
   "id": "773f9a53",
   "metadata": {},
   "outputs": [],
   "source": [
    "cd C:/Users/hujun/PycharmProjects/csci2040和我"
   ]
  },
  {
   "cell_type": "code",
   "execution_count": 469,
   "id": "1201e407",
   "metadata": {},
   "outputs": [],
   "source": [
    "class Stack(object):\n",
    "    def __init__(self):\n",
    "        self.storage = []\n",
    "    def push (self, newValue):\n",
    "        self.storage.append( newValue )\n",
    "    def top( self ):\n",
    "        return self.storage[len(self.storage) - 1]\n",
    "    def pop( self ):\n",
    "        result = self.top()\n",
    "        self.storage.pop()\n",
    "        return result\n",
    "    def isEmpty(self):\n",
    "        return len(self.storage) == 0\n",
    "\n",
    "class CalculatorEngine(object):\n",
    "    def __init__(self):\n",
    "        self.dataStack = Stack()\n",
    "    def pushOperand(self, value):\n",
    "        self.dataStack.push( value )\n",
    "    def currentOperand( self ):\n",
    "        return self.dataStack.top()\n",
    "    def performBinaryOp(self, fun):\n",
    "        right = self.dataStack.pop()\n",
    "        left = self.dataStack.pop()\n",
    "        self.dataStack.push( fun(left, right))\n",
    "    def doAddition(self):\n",
    "        self.performBinaryOp(lambda x, y: x + y)\n",
    "    def doSubtraction(self):\n",
    "        self.performBinaryOp(lambda x, y: x - y)\n",
    "    def doMultiplication(self):\n",
    "        self.performBinaryOp(lambda x, y: x * y)\n",
    "    def doDivision(self):\n",
    "        try:\n",
    "            self.performBinaryOp (lambda x, y: x / y)\n",
    "        except ZeroDivisionError :\n",
    "            print(\"divide␣by␣0!\" )\n",
    "            exit (1)\n",
    "    def doTextOp (self, op):\n",
    "        if (op == '+'): self.doAddition()\n",
    "        elif (op == '-'): self.doSubtraction()\n",
    "        elif (op == '*'): self.doMultiplication()\n",
    "        elif (op == '/'): self.doDivision()\n",
    "    \n",
    "class RPNCalculator(CalculatorEngine):\n",
    "    def __init__(self):\n",
    "        super().__init__()\n",
    "        \n",
    "    def eval(self, line):\n",
    "        a=line.split(' ')\n",
    "        for exp in a:\n",
    "            if exp.lstrip('-+').isnumeric():\n",
    "                super().pushOperand(int(exp))\n",
    "            else:\n",
    "                if exp == '%':\n",
    "                    self.doTextOp(exp)\n",
    "                else:\n",
    "                    super().doTextOp(exp)\n",
    "        return super().currentOperand()\n",
    "    \n",
    "    def doModuloDivision(self):\n",
    "        try:\n",
    "            super().performBinaryOp(lambda x, y: x % y)\n",
    "        except ZeroDivisionError :\n",
    "            print(\"divide␣by␣0!\" )\n",
    "            exit (1)\n",
    "            \n",
    "    def doTextOp (self, op):\n",
    "        if (op == '+'): super().doAddition()\n",
    "        elif (op == '-'): super().doSubtraction()\n",
    "        elif (op == '*'): super().doMultiplication()\n",
    "        elif (op == '/'): super().doDivision()\n",
    "        elif (op == '%'): self.doModuloDivision()"
   ]
  },
  {
   "cell_type": "code",
   "execution_count": 470,
   "id": "36b56097",
   "metadata": {},
   "outputs": [
    {
     "name": "stdout",
     "output_type": "stream",
     "text": [
      "2\n"
     ]
    },
    {
     "data": {
      "text/plain": [
       "True"
      ]
     },
     "execution_count": 470,
     "metadata": {},
     "output_type": "execute_result"
    }
   ],
   "source": [
    "calc = RPNCalculator()\n",
    "answer = calc.eval(\"3 4 + 2 * 3 %\")\n",
    "print(answer)\n",
    "expected = 2\n",
    "answer == expected\n",
    "#'2,1,+,3,*'\n",
    "#'10,6,9,3,+,-11,*,/,*,17,+,5,+'\n",
    "#4,13,5,/,+'\n",
    "#\"10\",\"6\",\"9\",\"3\",\"+\",\"-11\",\"*\",\"/\",\"*\",\"17\",\"+\",\"5\",\"+\""
   ]
  },
  {
   "cell_type": "markdown",
   "id": "7bcd31b8",
   "metadata": {},
   "source": [
    "# Q2"
   ]
  },
  {
   "cell_type": "code",
   "execution_count": 473,
   "id": "9d160894",
   "metadata": {},
   "outputs": [],
   "source": [
    "a=range(1,12)\n",
    "list1=list(map(lambda x:x**2,a))\n",
    "list2=list(map(lambda x:x+2,a))\n",
    "list3=[x for x in a if x <=8]\n",
    "list4=[x**2 for x in a if x %2==0]"
   ]
  },
  {
   "cell_type": "code",
   "execution_count": 474,
   "id": "dd2cbcfc",
   "metadata": {},
   "outputs": [
    {
     "name": "stdout",
     "output_type": "stream",
     "text": [
      "You passed all the tests!\n"
     ]
    }
   ],
   "source": [
    "expected1 = [1, 4, 9, 16, 25, 36, 49, 64, 81, 100, 121]\n",
    "expected2 = [3, 4, 5, 6, 7, 8, 9, 10, 11, 12, 13]\n",
    "expected3 = [1, 2, 3, 4, 5, 6, 7, 8]\n",
    "expected4 = [4, 16, 36, 64, 100]\n",
    "\n",
    "if expected1 == list1 and expected2 == list2 and expected3 == list3 and expected4 == list4 :            \n",
    "    print('You passed all the tests!')\n",
    "else:\n",
    "    print('Wrong answer, you failed some of the tests!')"
   ]
  },
  {
   "cell_type": "markdown",
   "id": "f2ca942f",
   "metadata": {},
   "source": [
    "# Q3"
   ]
  },
  {
   "cell_type": "code",
   "execution_count": 475,
   "id": "71b42c73",
   "metadata": {},
   "outputs": [],
   "source": [
    "from functools import reduce\n",
    "def recount(a,b):\n",
    "    if type(a) == str:\n",
    "        acount=a.count(string)\n",
    "    else:\n",
    "        acount=a\n",
    "    if type(b) == str:\n",
    "        bcount=b.count(string)\n",
    "    else:\n",
    "        bcount=b\n",
    "    return bcount+acount\n",
    "\n",
    "def word_count(x,str,n):\n",
    "    global string\n",
    "    string= str\n",
    "    filtered = list(filter(lambda q: len(q)>n, x))\n",
    "    concated = reduce(recount,filtered)\n",
    "    return concated\n"
   ]
  },
  {
   "cell_type": "code",
   "execution_count": 477,
   "id": "4cc9ec23",
   "metadata": {},
   "outputs": [
    {
     "name": "stdout",
     "output_type": "stream",
     "text": [
      "You passed all the tests!\n"
     ]
    }
   ],
   "source": [
    "test_case = [\n",
    "            (['python is boring',\n",
    "            'pythom is a large heavy-bodied snake',\n",
    "            'The python course is worse taking',\n",
    "            'The python course is worth taking'], 'python', 20),\n",
    "            (['python is boring',\n",
    "              'pythom is a large heavy-bodied snake',\n",
    "              'The python course is worse taking',\n",
    "              'The python course is worth taking'], 'python', 10),\n",
    "            (['aba', 'bca', 'baba', 'ab'], 'ab', 2)\n",
    "                     ]\n",
    "expected = [2, 3, 2]\n",
    "answer = [word_count(x, str, n) for (x, str, n) in test_case]\n",
    "if answer == expected:\n",
    "    print('You passed all the tests!')\n",
    "else:\n",
    "    print('Wrong answer, you failed some of the tests!')"
   ]
  },
  {
   "cell_type": "markdown",
   "id": "21f9cd10",
   "metadata": {},
   "source": [
    "# Q4"
   ]
  },
  {
   "cell_type": "code",
   "execution_count": 487,
   "id": "1b6e14a4",
   "metadata": {},
   "outputs": [],
   "source": [
    "def isint(n):\n",
    "    return int(n) == n\n",
    "\n",
    "def get_average_grades(filename='grades.csv'):\n",
    "    \n",
    "    average_grades_list=[]\n",
    "    with open(filename) as f:\n",
    "        a=f.readlines()\n",
    "        a=[x.rstrip('\\n').split(',') for x in a]\n",
    "        '''\n",
    "        a is nested list with sublists in string type\n",
    "        '''\n",
    "\n",
    "        '''\n",
    "        zip(*a) is all element with same position index in sublists of a\n",
    "        e.g. [(a1,a2,a3,a4),(),()]\n",
    "        '''\n",
    "        for x in range(len(list(zip(*a)))):\n",
    "            length = len(list(zip(*a))[x])\n",
    "            average_grades_list.append('0')\n",
    "        \n",
    "            '''\n",
    "            add str(0) before assign so that can evaluate string operation \n",
    "            '''\n",
    "            for num in list(zip(*a))[x]:\n",
    "                if float(num) != -1:\n",
    "                    average_grades_listx = average_grades_list[x]\n",
    "                    average_grades_list[x] = num + '+' + average_grades_listx\n",
    "                else:\n",
    "                    length-=1\n",
    "            '''\n",
    "            now average_grades_list[x] contains operation in string e.g.['0+60+80','0+61+70',...]\n",
    "            length is length without counting -1\n",
    "            '''\n",
    "            average_grades_list[x] = eval(average_grades_list[x])/length\n",
    "        for index in range(len(average_grades_list)):\n",
    "            if isint(average_grades_list[index]):\n",
    "                average_grades_list[index] = int(average_grades_list[index])\n",
    "                '''\n",
    "                if float num can be expressed in int, then do it e.g. turn 75.0 to 75\n",
    "                '''\n",
    "                \n",
    "    return average_grades_list\n"
   ]
  },
  {
   "cell_type": "code",
   "execution_count": 488,
   "id": "4e2e4af3",
   "metadata": {},
   "outputs": [
    {
     "name": "stdout",
     "output_type": "stream",
     "text": [
      "Testing...\n",
      "You passed all the tests!\n"
     ]
    }
   ],
   "source": [
    "expected = [70.0, 65.5, 75.0, 73.0]\n",
    "\n",
    "print('Testing...')\n",
    "answer = get_average_grades('grades.csv')\n",
    "if answer == expected:\n",
    "    print('You passed all the tests!')\n",
    "else:\n",
    "    print('Wrong answer, you failed some of the tests!')"
   ]
  },
  {
   "cell_type": "code",
   "execution_count": null,
   "id": "e92500c6",
   "metadata": {},
   "outputs": [],
   "source": [
    "sum(map(lambda x : x%2 == 1, listOfElems))"
   ]
  }
 ],
 "metadata": {
  "kernelspec": {
   "display_name": "Python 3 (ipykernel)",
   "language": "python",
   "name": "python3"
  },
  "language_info": {
   "codemirror_mode": {
    "name": "ipython",
    "version": 3
   },
   "file_extension": ".py",
   "mimetype": "text/x-python",
   "name": "python",
   "nbconvert_exporter": "python",
   "pygments_lexer": "ipython3",
   "version": "3.8.8"
  }
 },
 "nbformat": 4,
 "nbformat_minor": 5
}
